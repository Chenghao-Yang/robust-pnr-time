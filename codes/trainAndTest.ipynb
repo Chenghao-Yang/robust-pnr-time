{
 "cells": [
  {
   "cell_type": "code",
   "execution_count": 2,
   "id": "flush-participant",
   "metadata": {},
   "outputs": [],
   "source": [
    "import time, datetime\n",
    "from options import parser\n",
    "from models import FCNet\n",
    "\n",
    "import torch\n",
    "import torch.nn.functional as F\n",
    "import torch.optim as optim\n",
    "import torch.utils.data\n",
    "from torch.utils.data import Dataset\n",
    "from torch.autograd import Variable\n",
    "from torchvision import datasets, transforms\n",
    "from torchsummary import summary\n",
    "import matplotlib.pyplot as plt\n",
    "import numpy as np"
   ]
  },
  {
   "cell_type": "code",
   "execution_count": 4,
   "id": "engaged-athletics",
   "metadata": {},
   "outputs": [],
   "source": [
    "class classificationData(Dataset):\n",
    "\n",
    "    def __init__(self, inputDataPath,labelPath,transform=None):\n",
    "        self.inputData = torch.tensor(np.load(inputDataPath))\n",
    "        self.label = torch.tensor(np.load(labelPath))\n",
    "        self.transform = transform\n",
    "\n",
    "    def __len__(self):\n",
    "        return self.inputData.shape[0]\n",
    "                                 \n",
    "    def __getitem__(self, idx):\n",
    "        if torch.is_tensor(idx):\n",
    "            idx = idx.tolist()\n",
    "\n",
    "        dataInfo = self.inputData[idx]\n",
    "        labelInfo = self.label[idx]\n",
    "        sample = (dataInfo,labelInfo.to(dtype=torch.long))\n",
    "\n",
    "        if self.transform:\n",
    "            sample = self.transform(sample)\n",
    "        return sample"
   ]
  },
  {
   "cell_type": "code",
   "execution_count": 7,
   "id": "behavioral-shirt",
   "metadata": {},
   "outputs": [],
   "source": [
    "trainValidData = classificationData('inputFeatures.npy','outputLabels.npy')"
   ]
  },
  {
   "cell_type": "code",
   "execution_count": 11,
   "id": "systematic-sport",
   "metadata": {},
   "outputs": [],
   "source": [
    "temp = np.load('inputFeatures.npy')"
   ]
  },
  {
   "cell_type": "code",
   "execution_count": 13,
   "id": "voluntary-stopping",
   "metadata": {},
   "outputs": [
    {
     "data": {
      "text/plain": [
       "(2530, 1, 27, 3)"
      ]
     },
     "execution_count": 13,
     "metadata": {},
     "output_type": "execute_result"
    }
   ],
   "source": [
    "temp.shape"
   ]
  },
  {
   "cell_type": "code",
   "execution_count": 15,
   "id": "electric-register",
   "metadata": {},
   "outputs": [],
   "source": [
    "train_set, valid_set = torch.utils.data.random_split(trainValidData, [2000, 530])"
   ]
  },
  {
   "cell_type": "code",
   "execution_count": 17,
   "id": "magnetic-commissioner",
   "metadata": {},
   "outputs": [],
   "source": [
    "kwargs = {}"
   ]
  },
  {
   "cell_type": "code",
   "execution_count": 18,
   "id": "universal-swiss",
   "metadata": {},
   "outputs": [],
   "source": [
    "train_loader = torch.utils.data.DataLoader(trainValidData,batch_size=10, shuffle=True, drop_last=False, **kwargs)\n",
    "test_loader = torch.utils.data.DataLoader(trainValidData,batch_size=10, shuffle=True, drop_last=False, **kwargs)"
   ]
  },
  {
   "cell_type": "code",
   "execution_count": null,
   "id": "unexpected-librarian",
   "metadata": {},
   "outputs": [],
   "source": []
  }
 ],
 "metadata": {
  "kernelspec": {
   "display_name": "Python 3",
   "language": "python",
   "name": "python3"
  },
  "language_info": {
   "codemirror_mode": {
    "name": "ipython",
    "version": 3
   },
   "file_extension": ".py",
   "mimetype": "text/x-python",
   "name": "python",
   "nbconvert_exporter": "python",
   "pygments_lexer": "ipython3",
   "version": "3.9.1"
  }
 },
 "nbformat": 4,
 "nbformat_minor": 5
}
