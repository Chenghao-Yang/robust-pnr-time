{
 "cells": [
  {
   "cell_type": "code",
   "execution_count": 1,
   "id": "ethical-batch",
   "metadata": {},
   "outputs": [],
   "source": [
    "import time, datetime\n",
    "from options import parser\n",
    "from models import FCNet,synthesisNet\n",
    "\n",
    "import torch\n",
    "import torch.nn.functional as F\n",
    "import torch.optim as optim\n",
    "import torch.utils.data\n",
    "from torch.utils.data import Dataset\n",
    "from torch.autograd import Variable\n",
    "from torchvision import datasets, transforms\n",
    "from torchsummary import summary\n",
    "import matplotlib.pyplot as plt\n",
    "import numpy as np\n",
    "from imbalanced import ImbalancedDatasetSampler\n",
    "from options import parser"
   ]
  },
  {
   "cell_type": "markdown",
   "id": "mental-simple",
   "metadata": {},
   "source": [
    "# Dataloaders and Batch Sampling"
   ]
  },
  {
   "cell_type": "code",
   "execution_count": 2,
   "id": "earned-regulation",
   "metadata": {},
   "outputs": [],
   "source": [
    "class classificationData(Dataset):\n",
    "\n",
    "    def __init__(self, inputDataPath,labelPath,transform=None):\n",
    "        self.inputData = torch.tensor(np.load(inputDataPath),dtype=torch.float64)\n",
    "        self.label = torch.tensor(np.load(labelPath),dtype=torch.float64)\n",
    "        self.transform = transform\n",
    "\n",
    "    def __len__(self):\n",
    "        return self.inputData.shape[0]\n",
    "                                 \n",
    "    def __getitem__(self, idx):\n",
    "        if torch.is_tensor(idx):\n",
    "            idx = idx.tolist()\n",
    "\n",
    "        dataInfo = self.inputData[idx]\n",
    "        labelInfo = self.label[idx]\n",
    "        sample = (dataInfo,labelInfo.to(dtype=torch.long))\n",
    "\n",
    "        if self.transform:\n",
    "            sample = self.transform(sample)\n",
    "        return sample"
   ]
  },
  {
   "cell_type": "markdown",
   "id": "martial-reserve",
   "metadata": {},
   "source": [
    "## Imbalanced Batch Sampler callback function for label query"
   ]
  },
  {
   "cell_type": "code",
   "execution_count": 3,
   "id": "registered-italian",
   "metadata": {},
   "outputs": [],
   "source": [
    "def getLabelInfo(subset, idx):\n",
    "    return subset.dataset.label[idx].item()"
   ]
  },
  {
   "cell_type": "code",
   "execution_count": 107,
   "id": "basic-greek",
   "metadata": {},
   "outputs": [],
   "source": [
    "def get_dataloaders_train(args):\n",
    "    kwargs = {'num_workers': 1, 'pin_memory': True} if args.use_cuda else {}\n",
    "    trainValidData = classificationData('inputFeatures.npy','outputLabels.npy')\n",
    "    train_set, valid_set = torch.utils.data.random_split(trainValidData, [2000, 530])\n",
    "    train_loader = torch.utils.data.DataLoader(train_set,batch_size=args.batch_size_train,sampler=ImbalancedDatasetSampler(train_set,callback_get_label=getLabelInfo), **kwargs)\n",
    "    test_loader = torch.utils.data.DataLoader(valid_set,batch_size=args.batch_size_valid,sampler=ImbalancedDatasetSampler(valid_set,callback_get_label=getLabelInfo), **kwargs)\n",
    "    return train_loader, test_loader"
   ]
  },
  {
   "cell_type": "code",
   "execution_count": 5,
   "id": "southeast-arrow",
   "metadata": {},
   "outputs": [],
   "source": [
    "def get_dataloaders_test(args):\n",
    "    kwargs = {'num_workers': 4, 'pin_memory': True} if args.use_cuda else {}\n",
    "    testData = classificationData('inputFeatures.npy','outputLabels.npy')\n",
    "    test_loader = torch.utils.data.DataLoader(test_set,batch_size=args.batch_size, shuffle=True, drop_last=False, **kwargs)\n",
    "    return test_loader"
   ]
  },
  {
   "cell_type": "code",
   "execution_count": 106,
   "id": "unlikely-transformation",
   "metadata": {},
   "outputs": [],
   "source": [
    "args = parser.parse_args(args=[])\n",
    "use_cuda = False\n",
    "args.use_cuda = False\n",
    "args.device = torch.device(\"cpu\")\n",
    "args.batch_size_train = 200\n",
    "args.batch_size_valid = 10"
   ]
  },
  {
   "cell_type": "markdown",
   "id": "sharp-relations",
   "metadata": {},
   "source": [
    "# Model and Optimizer"
   ]
  },
  {
   "cell_type": "code",
   "execution_count": 148,
   "id": "figured-variable",
   "metadata": {},
   "outputs": [],
   "source": [
    "def get_model(args):\n",
    "    ''' define model '''\n",
    "    model = synthesisNet(pathLength=27)\n",
    "    print('---Model Information---')\n",
    "    print('Net:', model)\n",
    "    print('Use GPU:', args.use_cuda)\n",
    "    return model.to(args.device)"
   ]
  },
  {
   "cell_type": "code",
   "execution_count": 149,
   "id": "tutorial-defensive",
   "metadata": {},
   "outputs": [],
   "source": [
    "def get_optimizer(args, model):\n",
    "    ''' define optimizer '''\n",
    "    #optimizer = torch.optim.SGD(model.parameters(), lr=args.lr, momentum=args.momentum)\n",
    "    optimizer = torch.optim.Adam(model.parameters(), lr=0.05)\n",
    "    print('\\n---Optimization Information---')\n",
    "    print('optimizer: Adam')\n",
    "    print('batch size:', args.batch_size)\n",
    "    print('lr:', args.lr)\n",
    "    print('momentum:', args.momentum)\n",
    "    return optimizer"
   ]
  },
  {
   "cell_type": "code",
   "execution_count": 150,
   "id": "inclusive-hamburg",
   "metadata": {},
   "outputs": [],
   "source": [
    "# Ref: https://discuss.pytorch.org/t/solved-class-weight-for-bceloss/3114\n",
    "def weighted_binary_cross_entropy(output, target, weights=None):\n",
    "        \n",
    "    if weights is not None:\n",
    "        assert len(weights) == 2\n",
    "        \n",
    "        loss = weights[1] * (target * torch.log(output)) + \\\n",
    "               weights[0] * ((1 - target) * torch.log(1 - output))\n",
    "    else:\n",
    "        loss = target * torch.log(output) + (1 - target) * torch.log(1 - output)\n",
    "\n",
    "    return torch.neg(torch.mean(loss))"
   ]
  },
  {
   "cell_type": "code",
   "execution_count": 151,
   "id": "hungarian-netscape",
   "metadata": {},
   "outputs": [],
   "source": [
    "train_loader, test_loader = get_dataloaders_train(args)"
   ]
  },
  {
   "cell_type": "code",
   "execution_count": 152,
   "id": "working-belfast",
   "metadata": {},
   "outputs": [
    {
     "name": "stdout",
     "output_type": "stream",
     "text": [
      "---Model Information---\n",
      "Net: synthesisNet(\n",
      "  (conv1): Conv2d(1, 32, kernel_size=(3, 3), stride=(1, 1))\n",
      "  (fc1): Linear(in_features=800, out_features=1, bias=True)\n",
      ")\n",
      "Use GPU: False\n",
      "\n",
      "---Optimization Information---\n",
      "optimizer: Adam\n",
      "batch size: 10\n",
      "lr: 0.01\n",
      "momentum: 0.9\n"
     ]
    }
   ],
   "source": [
    "synModel = get_model(args).double()\n",
    "optim_syn = get_optimizer(args,synModel)"
   ]
  },
  {
   "cell_type": "code",
   "execution_count": null,
   "id": "secret-layout",
   "metadata": {},
   "outputs": [],
   "source": [
    "torch.do"
   ]
  },
  {
   "cell_type": "code",
   "execution_count": 165,
   "id": "peripheral-coverage",
   "metadata": {},
   "outputs": [],
   "source": [
    "inputDim = torch.tensor((1, 27, 3)).double()"
   ]
  },
  {
   "cell_type": "code",
   "execution_count": 171,
   "id": "elect-virgin",
   "metadata": {},
   "outputs": [
    {
     "name": "stdout",
     "output_type": "stream",
     "text": [
      "----------------------------------------------------------------\n",
      "        Layer (type)               Output Shape         Param #\n",
      "================================================================\n",
      "            Conv2d-1            [-1, 32, 25, 1]             320\n",
      "            Linear-2                    [-1, 1]             801\n",
      "      synthesisNet-3                    [-1, 1]               0\n",
      "================================================================\n",
      "Total params: 1,121\n",
      "Trainable params: 1,121\n",
      "Non-trainable params: 0\n",
      "----------------------------------------------------------------\n",
      "Input size (MB): 0.00\n",
      "Forward/backward pass size (MB): 0.01\n",
      "Params size (MB): 0.00\n",
      "Estimated Total Size (MB): 0.01\n",
      "----------------------------------------------------------------\n",
      "\n"
     ]
    },
    {
     "data": {
      "text/plain": [
       "(tensor(1121), tensor(1121))"
      ]
     },
     "execution_count": 171,
     "metadata": {},
     "output_type": "execute_result"
    }
   ],
   "source": [
    "summary(synModel,(1,27,3),dtypes=[torch.DoubleTensor]*3)"
   ]
  },
  {
   "cell_type": "code",
   "execution_count": 153,
   "id": "hungry-assets",
   "metadata": {},
   "outputs": [],
   "source": [
    "from sklearn import metrics"
   ]
  },
  {
   "cell_type": "code",
   "execution_count": 154,
   "id": "characteristic-better",
   "metadata": {},
   "outputs": [
    {
     "name": "stdout",
     "output_type": "stream",
     "text": [
      "tensor(12.7802, dtype=torch.float64, grad_fn=<AddBackward0>)\n",
      "tensor(18.4370, dtype=torch.float64, grad_fn=<AddBackward0>)\n",
      "tensor(26.6623, dtype=torch.float64, grad_fn=<AddBackward0>)\n",
      "tensor(10.3760, dtype=torch.float64, grad_fn=<AddBackward0>)\n",
      "tensor(1.5087, dtype=torch.float64, grad_fn=<AddBackward0>)\n",
      "tensor(4.6871, dtype=torch.float64, grad_fn=<AddBackward0>)\n",
      "tensor(6.8426, dtype=torch.float64, grad_fn=<AddBackward0>)\n",
      "tensor(6.1959, dtype=torch.float64, grad_fn=<AddBackward0>)\n",
      "tensor(5.0963, dtype=torch.float64, grad_fn=<AddBackward0>)\n",
      "tensor(3.8254, dtype=torch.float64, grad_fn=<AddBackward0>)\n",
      "tensor(2.6892, dtype=torch.float64, grad_fn=<AddBackward0>)\n",
      "tensor(1.7292, dtype=torch.float64, grad_fn=<AddBackward0>)\n",
      "tensor(1.2191, dtype=torch.float64, grad_fn=<AddBackward0>)\n",
      "tensor(1.2260, dtype=torch.float64, grad_fn=<AddBackward0>)\n",
      "tensor(1.7039, dtype=torch.float64, grad_fn=<AddBackward0>)\n",
      "tensor(1.9096, dtype=torch.float64, grad_fn=<AddBackward0>)\n",
      "tensor(2.6963, dtype=torch.float64, grad_fn=<AddBackward0>)\n",
      "tensor(2.9650, dtype=torch.float64, grad_fn=<AddBackward0>)\n",
      "tensor(3.4684, dtype=torch.float64, grad_fn=<AddBackward0>)\n",
      "tensor(3.4208, dtype=torch.float64, grad_fn=<AddBackward0>)\n",
      "tensor(3.4405, dtype=torch.float64, grad_fn=<AddBackward0>)\n",
      "tensor(3.1388, dtype=torch.float64, grad_fn=<AddBackward0>)\n",
      "tensor(3.1610, dtype=torch.float64, grad_fn=<AddBackward0>)\n",
      "tensor(2.8625, dtype=torch.float64, grad_fn=<AddBackward0>)\n",
      "tensor(2.5515, dtype=torch.float64, grad_fn=<AddBackward0>)\n",
      "tensor(1.6700, dtype=torch.float64, grad_fn=<AddBackward0>)\n",
      "tensor(1.3625, dtype=torch.float64, grad_fn=<AddBackward0>)\n",
      "tensor(1.2672, dtype=torch.float64, grad_fn=<AddBackward0>)\n",
      "tensor(1.3371, dtype=torch.float64, grad_fn=<AddBackward0>)\n",
      "tensor(1.7452, dtype=torch.float64, grad_fn=<AddBackward0>)\n",
      "tensor(2.2927, dtype=torch.float64, grad_fn=<AddBackward0>)\n",
      "tensor(2.8378, dtype=torch.float64, grad_fn=<AddBackward0>)\n",
      "tensor(3.2978, dtype=torch.float64, grad_fn=<AddBackward0>)\n",
      "tensor(3.7483, dtype=torch.float64, grad_fn=<AddBackward0>)\n",
      "tensor(4.0021, dtype=torch.float64, grad_fn=<AddBackward0>)\n",
      "tensor(4.1615, dtype=torch.float64, grad_fn=<AddBackward0>)\n",
      "tensor(4.1943, dtype=torch.float64, grad_fn=<AddBackward0>)\n",
      "tensor(4.0946, dtype=torch.float64, grad_fn=<AddBackward0>)\n",
      "tensor(3.7507, dtype=torch.float64, grad_fn=<AddBackward0>)\n",
      "tensor(3.3877, dtype=torch.float64, grad_fn=<AddBackward0>)\n",
      "tensor(2.8646, dtype=torch.float64, grad_fn=<AddBackward0>)\n",
      "tensor(2.3144, dtype=torch.float64, grad_fn=<AddBackward0>)\n",
      "tensor(1.7339, dtype=torch.float64, grad_fn=<AddBackward0>)\n",
      "tensor(1.3277, dtype=torch.float64, grad_fn=<AddBackward0>)\n",
      "tensor(1.2803, dtype=torch.float64, grad_fn=<AddBackward0>)\n",
      "tensor(1.4763, dtype=torch.float64, grad_fn=<AddBackward0>)\n",
      "tensor(1.9222, dtype=torch.float64, grad_fn=<AddBackward0>)\n",
      "tensor(2.5662, dtype=torch.float64, grad_fn=<AddBackward0>)\n",
      "tensor(3.0268, dtype=torch.float64, grad_fn=<AddBackward0>)\n",
      "tensor(3.5379, dtype=torch.float64, grad_fn=<AddBackward0>)\n"
     ]
    }
   ],
   "source": [
    "lossValue = []\n",
    "for i in range(50):\n",
    "    train_loss = 0\n",
    "    for batch_idx, (data, target) in enumerate(train_loader):\n",
    "        data, target = data.to(args.device), target.to(args.device)\n",
    "        predict = synModel(data)\n",
    "        #loss=F.binary_cross_entropy(torch.flatten(predict),target.double())\n",
    "        loss=weighted_binary_cross_entropy(torch.flatten(predict), target.double(), weights=[0.1,0.8])\n",
    "        train_loss += loss\n",
    "        loss.backward()\n",
    "        optim_syn.step()\n",
    "    print(train_loss)\n",
    "    lossValue.append(train_loss.item())\n",
    "    "
   ]
  },
  {
   "cell_type": "code",
   "execution_count": 155,
   "id": "aerial-victoria",
   "metadata": {},
   "outputs": [
    {
     "data": {
      "text/plain": [
       "[12.780153837068513,\n",
       " 18.436952455132083,\n",
       " 26.662256410205767,\n",
       " 10.376035316885664,\n",
       " 1.508746385934793,\n",
       " 4.6870694744019605,\n",
       " 6.842577083437261,\n",
       " 6.195932789413623,\n",
       " 5.096303924352751,\n",
       " 3.825426843643176,\n",
       " 2.6891844783863097,\n",
       " 1.729232757034129,\n",
       " 1.2190595611750419,\n",
       " 1.2260449590173956,\n",
       " 1.703870706008246,\n",
       " 1.9096027533022206,\n",
       " 2.6963380944213635,\n",
       " 2.965029246133754,\n",
       " 3.4683555421500767,\n",
       " 3.420827409555244,\n",
       " 3.4405468135576793,\n",
       " 3.1388122601098623,\n",
       " 3.16098808034539,\n",
       " 2.86245076234665,\n",
       " 2.5514804379211227,\n",
       " 1.6700018176071068,\n",
       " 1.362460877101143,\n",
       " 1.267153734189583,\n",
       " 1.337107968031709,\n",
       " 1.7451833592075991,\n",
       " 2.29269535442224,\n",
       " 2.837784270241827,\n",
       " 3.2977931127720748,\n",
       " 3.7483378985534563,\n",
       " 4.002135595000177,\n",
       " 4.161548452879624,\n",
       " 4.194306215185626,\n",
       " 4.094567195920481,\n",
       " 3.750650969295695,\n",
       " 3.38772492969974,\n",
       " 2.8645601130731917,\n",
       " 2.3143616163431804,\n",
       " 1.7338699668426831,\n",
       " 1.3276874855377179,\n",
       " 1.2802897353953597,\n",
       " 1.476326003530405,\n",
       " 1.9222412670758364,\n",
       " 2.566214709768867,\n",
       " 3.026756421021525,\n",
       " 3.5378741713113433]"
      ]
     },
     "execution_count": 155,
     "metadata": {},
     "output_type": "execute_result"
    }
   ],
   "source": [
    "lossValue"
   ]
  },
  {
   "cell_type": "code",
   "execution_count": 156,
   "id": "organic-intermediate",
   "metadata": {},
   "outputs": [
    {
     "name": "stderr",
     "output_type": "stream",
     "text": [
      "No handles with labels found to put in legend.\n"
     ]
    },
    {
     "data": {
      "image/png": "[encoded data removed]",
      "text/plain": [
       "<Figure size 432x288 with 1 Axes>"
      ]
     },
     "metadata": {
      "needs_background": "light"
     },
     "output_type": "display_data"
    }
   ],
   "source": [
    "import matplotlib.pyplot as plt\n",
    "\n",
    "plt.figure()\n",
    "lw = 2\n",
    "#plt.plot(fpr, tpr, color='darkorange',lw=lw, label='ROC curve (area = %0.2f)' % roc_auc)\n",
    "plt.plot([i for i in range(1,len(lossValue)+1)], lossValue, color='darkorange', lw=lw, linestyle='--')\n",
    "plt.xlim([0,len(lossValue)+1])\n",
    "plt.ylim([0.0,np.max(lossValue)+5])\n",
    "plt.xlabel('Epochs')\n",
    "plt.ylabel('Binary Cross Entropy loss')\n",
    "plt.title('Epochs v/s Loss')\n",
    "plt.legend(loc=\"lower right\")\n",
    "plt.show()"
   ]
  },
  {
   "cell_type": "code",
   "execution_count": 117,
   "id": "connected-midwest",
   "metadata": {},
   "outputs": [
    {
     "data": {
      "text/plain": [
       "((2000,), (2000,))"
      ]
     },
     "execution_count": 117,
     "metadata": {},
     "output_type": "execute_result"
    }
   ],
   "source": [
    "finalTgt = np.array([])\n",
    "finalPrediction = np.array([])\n",
    "for batch_idx, (data, target) in enumerate(train_loader):\n",
    "    data, target = data.to(args.device), target.to(args.device)\n",
    "    predict = synModel(data)\n",
    "    finalTgt = np.append(finalTgt,target.numpy())\n",
    "    finalPrediction = np.append(finalPrediction,torch.flatten(predict).detach().numpy())\n",
    "\n",
    "finalTgt.shape,finalPrediction.shape\n",
    "#print(metrics.roc_auc_score(target.numpy(),torch.flatten(predict).detach().numpy()))"
   ]
  },
  {
   "cell_type": "code",
   "execution_count": 118,
   "id": "friendly-isaac",
   "metadata": {},
   "outputs": [
    {
     "data": {
      "text/plain": [
       "(array([0.05211797, 0.05211797, 0.05211797, ..., 0.05211797, 0.05211797,\n",
       "        0.05211797]),\n",
       " array([0., 0., 0., ..., 0., 0., 0.]))"
      ]
     },
     "execution_count": 118,
     "metadata": {},
     "output_type": "execute_result"
    }
   ],
   "source": [
    "finalPrediction,finalTgt"
   ]
  },
  {
   "cell_type": "code",
   "execution_count": 121,
   "id": "capital-tsunami",
   "metadata": {},
   "outputs": [
    {
     "name": "stdout",
     "output_type": "stream",
     "text": [
      "(array([0.        , 0.01607539, 0.0232816 , 0.11419069, 0.11862528,\n",
      "       0.19733925, 0.19789357, 0.20121951, 0.69733925, 0.69733925,\n",
      "       0.73392461, 0.73392461, 0.7921286 , 0.7921286 , 0.83980044,\n",
      "       0.83980044, 0.84922395, 0.84922395, 0.85864745, 0.85864745,\n",
      "       0.95288248, 0.95288248, 0.98170732, 1.        , 1.        ,\n",
      "       1.        ]), array([0.        , 0.31122449, 0.3877551 , 0.47959184, 0.52040816,\n",
      "       0.63265306, 0.65816327, 0.65816327, 0.65816327, 0.68877551,\n",
      "       0.68877551, 0.72959184, 0.72959184, 0.7755102 , 0.7755102 ,\n",
      "       0.81632653, 0.81632653, 0.82142857, 0.82142857, 0.89795918,\n",
      "       0.89795918, 0.91836735, 0.91836735, 0.91836735, 0.94387755,\n",
      "       1.        ]), array([1.05211797, 0.05211797, 0.05211797, 0.05211797, 0.05211797,\n",
      "       0.05211797, 0.05211797, 0.05211797, 0.05211797, 0.05211797,\n",
      "       0.05211797, 0.05211797, 0.05211797, 0.05211797, 0.05211797,\n",
      "       0.05211797, 0.05211797, 0.05211797, 0.05211797, 0.05211797,\n",
      "       0.05211797, 0.05211797, 0.05211797, 0.05211797, 0.05211797,\n",
      "       0.05211797]))\n"
     ]
    }
   ],
   "source": [
    "print(metrics.roc_curve(finalTgt,finalPrediction))\n",
    "roc_auc= metrics.auc(metrics.roc_curve(finalTgt,finalPrediction)[0],metrics.roc_curve(finalTgt,finalPrediction)[1])"
   ]
  },
  {
   "cell_type": "code",
   "execution_count": 127,
   "id": "pacific-conspiracy",
   "metadata": {},
   "outputs": [],
   "source": [
    "fpr, tpr, thresholds = metrics.roc_curve(finalTgt,finalPrediction)\n",
    "roc_auc = metrics.auc(fpr, tpr)"
   ]
  },
  {
   "cell_type": "code",
   "execution_count": 128,
   "id": "scheduled-motivation",
   "metadata": {},
   "outputs": [
    {
     "data": {
      "image/png": "[encoded data removed]",
      "text/plain": [
       "<Figure size 432x288 with 1 Axes>"
      ]
     },
     "metadata": {
      "needs_background": "light"
     },
     "output_type": "display_data"
    }
   ],
   "source": [
    "import matplotlib.pyplot as plt\n",
    "\n",
    "fpr, tpr, thresholds = metrics.roc_curve(finalTgt,finalPrediction)\n",
    "roc_auc = metrics.auc(fpr, tpr)\n",
    "\n",
    "plt.figure()\n",
    "lw = 2\n",
    "plt.plot(fpr, tpr, color='darkorange',lw=lw, label='ROC curve (area = %0.2f)' % roc_auc)\n",
    "plt.plot([0, 1], [0, 1], color='navy', lw=lw, linestyle='--')\n",
    "plt.xlim([0.0, 1.0])\n",
    "plt.ylim([0.0, 1.05])\n",
    "plt.xlabel('False Positive Rate')\n",
    "plt.ylabel('True Positive Rate')\n",
    "plt.title('Receiver operating characteristic example')\n",
    "plt.legend(loc=\"lower right\")\n",
    "plt.show()"
   ]
  },
  {
   "cell_type": "markdown",
   "id": "deluxe-halloween",
   "metadata": {},
   "source": [
    "# Train and Test"
   ]
  },
  {
   "cell_type": "code",
   "execution_count": null,
   "id": "working-walker",
   "metadata": {},
   "outputs": [],
   "source": [
    "def train(args, model, optimizer, train_loader, epoch):\n",
    "    ''' define training function '''\n",
    "    model.train()\n",
    "    count = 0\n",
    "    train_loss = 0\n",
    "    train_correct = 0\n",
    "    #MAX_BATCH = 150\n",
    "    for batch_idx, (data, target) in enumerate(train_loader):\n",
    "        # Ensuring that training happen with 7000 MNIST samples only\n",
    "        # Balanced Sampling used to ensure count of each digits in\n",
    "        # 7000 MNIST samples are same.\n",
    "        #if (count > MAX_BATCH):\n",
    "        #    break\n",
    "        data, target = data.to(args.device), target.to(args.device)\n",
    "        optimizer.zero_grad()\n",
    "        c2Comb = target.size()[0]\n",
    "        x1 = []\n",
    "        x2 = []\n",
    "        binTarget = []\n",
    "        for i in range(c2Comb):\n",
    "            for j in range(i):\n",
    "                image1 = data[i]\n",
    "                image2 = data[j]\n",
    "                x1.append(image1.unsqueeze(0))\n",
    "                x2.append(image2.unsqueeze(0))\n",
    "                if (target[i] == target[j]):\n",
    "                    binTarget.append(1)\n",
    "                else:\n",
    "                    binTarget.append(0)\n",
    "        x1Tensor = torch.cat(x1, dim=0)\n",
    "        x2Tensor = torch.cat(x2, dim=0)\n",
    "        targetTensor = torch.tensor(binTarget)\n",
    "        count += 1\n",
    "        output = model(x1Tensor, x2Tensor)\n",
    "        loss = F.nll_loss(output, targetTensor)\n",
    "        train_loss += loss\n",
    "        pred = output.data.max(1, keepdim=True)[1]  # get the index of the max log-probability\n",
    "        train_correct += pred.eq(targetTensor.data.view_as(pred)).cpu().sum()\n",
    "        loss.backward()\n",
    "        optimizer.step()\n",
    "        if batch_idx % args.log_interval == 0:\n",
    "            print('Train Epoch: {} [{}/{} ({:.0f}%)]\\tLoss: {:.6f}'.format(\n",
    "                epoch, batch_idx * len(binTarget), MAX_BATCH*len(binTarget),\n",
    "                       100. * batch_idx / MAX_BATCH, loss.item()))\n",
    "\n",
    "    print('\\tTraining Accuracy (Avg.): {:.4f}\\n'.format(train_correct.item() / (1225*MAX_BATCH)))\n",
    "    #print(\"Train Loss before : \"+str(train_loss))\n",
    "    train_loss /= (MAX_BATCH) # Loss is computer as average loss over every batch\n",
    "    #print(\"Train Loss after : \" + str(train_loss))\n",
    "    epoch_Training_Loss.append(train_loss)"
   ]
  },
  {
   "cell_type": "code",
   "execution_count": null,
   "id": "weekly-aquarium",
   "metadata": {},
   "outputs": [],
   "source": [
    "def test(args, model, test_loader):\n",
    "    ''' define testing function '''\n",
    "    model.eval()\n",
    "    test_loss = 0\n",
    "    correct = 0\n",
    "    count=0\n",
    "    batchCount = 0\n",
    "    with torch.no_grad():\n",
    "        for data, target in test_loader:\n",
    "            if (batchCount > 150):\n",
    "                break\n",
    "            data, target = data.to(args.device), target.to(args.device)\n",
    "            optimizer.zero_grad()\n",
    "            c2Comb = target.size()[0]\n",
    "            x1 = []\n",
    "            x2 = []\n",
    "            binTarget = []\n",
    "            for i in range(c2Comb):\n",
    "                for j in range(i):\n",
    "                    image1 = data[i]\n",
    "                    image2 = data[j]\n",
    "                    x1.append(image1.unsqueeze(0))\n",
    "                    x2.append(image2.unsqueeze(0))\n",
    "                    if (target[i] == target[j]):\n",
    "                        binTarget.append(1)\n",
    "                    else:\n",
    "                        binTarget.append(0)\n",
    "            x1Tensor = torch.cat(x1, dim=0)\n",
    "            x2Tensor = torch.cat(x2, dim=0)\n",
    "            targetTensor = torch.tensor(binTarget)\n",
    "            batchCount += 1\n",
    "            count+=len(binTarget)\n",
    "            output = model(x1Tensor, x2Tensor)\n",
    "            test_loss += F.nll_loss(output, targetTensor, reduction='sum').item()  # sum up batch loss\n",
    "            pred = output.data.max(1, keepdim=True)[1]  # get the index of the max log-probability\n",
    "            correct += pred.eq(targetTensor.data.view_as(pred)).cpu().sum()\n",
    "\n",
    "    #print(test_loss,count)\n",
    "    test_loss /= count\n",
    "    epoch_Test_Loss.append(test_loss)\n",
    "    print('Test set: Average loss: {:.4f}, Accuracy: {}/{} ({:.0f}%)'.format(\n",
    "        test_loss, correct, count,100. * correct / count))"
   ]
  },
  {
   "cell_type": "code",
   "execution_count": 50,
   "id": "active-pakistan",
   "metadata": {},
   "outputs": [
    {
     "data": {
      "text/plain": [
       "10"
      ]
     },
     "execution_count": 50,
     "metadata": {},
     "output_type": "execute_result"
    }
   ],
   "source": [
    "args.batch_size"
   ]
  },
  {
   "cell_type": "code",
   "execution_count": 93,
   "id": "tested-thumb",
   "metadata": {},
   "outputs": [],
   "source": [
    "train_loader, test_loader = get_dataloaders_train(args)"
   ]
  },
  {
   "cell_type": "code",
   "execution_count": 94,
   "id": "directed-genesis",
   "metadata": {},
   "outputs": [
    {
     "data": {
      "text/plain": [
       "(200, 53)"
      ]
     },
     "execution_count": 94,
     "metadata": {},
     "output_type": "execute_result"
    }
   ],
   "source": [
    "len(train_loader),len(test_loader)"
   ]
  },
  {
   "cell_type": "code",
   "execution_count": 78,
   "id": "outstanding-supervision",
   "metadata": {},
   "outputs": [
    {
     "data": {
      "text/plain": [
       "tensor(1)"
      ]
     },
     "execution_count": 78,
     "metadata": {},
     "output_type": "execute_result"
    }
   ],
   "source": [
    "train_loader.dataset.label[0]"
   ]
  },
  {
   "cell_type": "code",
   "execution_count": 7,
   "id": "muslim-rally",
   "metadata": {},
   "outputs": [],
   "source": []
  },
  {
   "cell_type": "code",
   "execution_count": 11,
   "id": "afraid-workshop",
   "metadata": {},
   "outputs": [],
   "source": [
    "temp = np.load('inputFeatures.npy')"
   ]
  },
  {
   "cell_type": "code",
   "execution_count": 13,
   "id": "labeled-death",
   "metadata": {},
   "outputs": [
    {
     "data": {
      "text/plain": [
       "(2530, 1, 27, 3)"
      ]
     },
     "execution_count": 13,
     "metadata": {},
     "output_type": "execute_result"
    }
   ],
   "source": [
    "temp.shape"
   ]
  },
  {
   "cell_type": "code",
   "execution_count": 53,
   "id": "prostate-product",
   "metadata": {},
   "outputs": [],
   "source": [
    "trainValidData = classificationData('inputFeatures.npy','outputLabels.npy')\n",
    "train_set, valid_set = torch.utils.data.random_split(trainValidData, [2000, 530])"
   ]
  },
  {
   "cell_type": "code",
   "execution_count": 56,
   "id": "personalized-delight",
   "metadata": {},
   "outputs": [
    {
     "data": {
      "text/plain": [
       "<torch.utils.data.dataset.Subset at 0x7f6000324670>"
      ]
     },
     "execution_count": 56,
     "metadata": {},
     "output_type": "execute_result"
    }
   ],
   "source": [
    "train_set"
   ]
  },
  {
   "cell_type": "code",
   "execution_count": 17,
   "id": "substantial-recruitment",
   "metadata": {},
   "outputs": [],
   "source": [
    "kwargs = {}"
   ]
  },
  {
   "cell_type": "code",
   "execution_count": 18,
   "id": "honey-picking",
   "metadata": {},
   "outputs": [],
   "source": [
    "train_loader = torch.utils.data.DataLoader(trainValidData,batch_size=10, shuffle=True, drop_last=False, **kwargs)\n",
    "test_loader = torch.utils.data.DataLoader(trainValidData,batch_size=10, shuffle=True, drop_last=False, **kwargs)"
   ]
  },
  {
   "cell_type": "code",
   "execution_count": null,
   "id": "alive-ancient",
   "metadata": {},
   "outputs": [],
   "source": []
  }
 ],
 "metadata": {
  "kernelspec": {
   "display_name": "Python 3",
   "language": "python",
   "name": "python3"
  },
  "language_info": {
   "codemirror_mode": {
    "name": "ipython",
    "version": 3
   },
   "file_extension": ".py",
   "mimetype": "text/x-python",
   "name": "python",
   "nbconvert_exporter": "python",
   "pygments_lexer": "ipython3",
   "version": "3.9.1"
  }
 },
 "nbformat": 4,
 "nbformat_minor": 5
}
